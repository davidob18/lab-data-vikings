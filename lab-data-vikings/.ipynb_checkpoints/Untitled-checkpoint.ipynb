{
 "cells": [
  {
   "cell_type": "code",
   "execution_count": 27,
   "id": "d0fe6b1c-0ffc-4aa5-8aa6-6fcd4b546115",
   "metadata": {},
   "outputs": [],
   "source": [
    "dic_p = {}\n",
    "class Soldier:\n",
    "    def __init__(self, nombre, puntaje):\n",
    "        self.nombre = nombre\n",
    "        self.puntaje = puntaje\n",
    "        dic_p[self.nombre] = self.puntaje \n",
    "    \n",
    "    def dic_p2(self):\n",
    "        print(self.nombre)\n",
    "        dic_p[self.nombre] = self.puntaje "
   ]
  },
  {
   "cell_type": "code",
   "execution_count": 28,
   "id": "aa21d9b6-ca25-41be-bb79-f815ba3e3d3d",
   "metadata": {},
   "outputs": [],
   "source": [
    "Marcos = Soldier('marcos', 10)"
   ]
  },
  {
   "cell_type": "code",
   "execution_count": 30,
   "id": "9fd17b06-e1e6-42eb-9f34-20120ba7b2ff",
   "metadata": {},
   "outputs": [
    {
     "name": "stdout",
     "output_type": "stream",
     "text": [
      "{'marcos': 10}\n"
     ]
    }
   ],
   "source": [
    "print(dic_p)"
   ]
  },
  {
   "cell_type": "code",
   "execution_count": 22,
   "id": "e342b9b8-8d21-4fd2-b16f-295e6995cb2e",
   "metadata": {},
   "outputs": [
    {
     "data": {
      "text/plain": [
       "10"
      ]
     },
     "execution_count": 22,
     "metadata": {},
     "output_type": "execute_result"
    }
   ],
   "source": [
    "Marcos.puntaje"
   ]
  },
  {
   "cell_type": "code",
   "execution_count": 23,
   "id": "b7329954-d448-4827-a781-368eeb549e68",
   "metadata": {},
   "outputs": [
    {
     "name": "stdout",
     "output_type": "stream",
     "text": [
      "marcos\n"
     ]
    }
   ],
   "source": [
    "Marcos.dic_p2()"
   ]
  },
  {
   "cell_type": "code",
   "execution_count": 29,
   "id": "a77bf652-db7b-44d4-94ad-aea974812acf",
   "metadata": {},
   "outputs": [
    {
     "name": "stdout",
     "output_type": "stream",
     "text": [
      "{'marcos': 10}\n"
     ]
    }
   ],
   "source": [
    "print(dic_p)"
   ]
  },
  {
   "cell_type": "code",
   "execution_count": null,
   "id": "b0726027-faee-4b4a-8a50-7f6e4606e122",
   "metadata": {},
   "outputs": [],
   "source": [
    "class Crawler:\n",
    "    def __init__(self, url, paginas=1, navegador = 'Chrome'):\n",
    "        self.pagina_web = url\n",
    "        self.npginas = paginas\n",
    "        self.driver = navegador\n",
    "    def acceder_pagina(self):\n",
    "        print(f'Usando navegador {self.driver}')\n",
    "        print(f'accedimos a la pagina {self.pagina_web}')\n",
    "    def sacar_info(self):\n",
    "        for pagina in range(self.npaginas):\n",
    "            print(f'Usando navegador {pagina}')\n",
    "class ScraperIronhack(Crawler):\n",
    "    def __init__(self, user, password, url, paginas=1, navegador = 'Chrome'):\n",
    "        self.user = user\n",
    "        self.password = password\n",
    "        super().__init__(url, paginas=1, navegador = 'Chrome')\n",
    "    def iniciar_sesion(self):\n",
    "        print(f'Iniciando sesion usuario {self.user}')\n",
    "    def acceder_pagina(self):\n",
    "        print(f'Usando navegador {self.driver}')\n",
    "        print(f'Accedimos a la pagina {self.pagina_web}')\n",
    "        print('Favor de iniciar sesion')\n",
    "class ScraperInsta(Crawler):\n",
    "    def __init__(self, user, password, url, paginas = 1, navegador = 'Chrome'):\n",
    "        self.user = user\n",
    "        self.password = password\n",
    "        super().__init__(url, paginas, navegador)\n",
    "    def iniciar_sesion(self):\n",
    "        print(f'Iniciando sesion usuario {self.user}')\n",
    "    def stalkear(self):\n",
    "        print('Ya superala')"
   ]
  }
 ],
 "metadata": {
  "kernelspec": {
   "display_name": "Python 3 (ipykernel)",
   "language": "python",
   "name": "python3"
  },
  "language_info": {
   "codemirror_mode": {
    "name": "ipython",
    "version": 3
   },
   "file_extension": ".py",
   "mimetype": "text/x-python",
   "name": "python",
   "nbconvert_exporter": "python",
   "pygments_lexer": "ipython3",
   "version": "3.9.13"
  }
 },
 "nbformat": 4,
 "nbformat_minor": 5
}
